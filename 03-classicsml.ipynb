{
 "cells": [
  {
   "cell_type": "markdown",
   "id": "9fb48609-3720-4c4c-9369-9fe051d62317",
   "metadata": {},
   "source": [
    "# Very simple machine learning with Classics"
   ]
  },
  {
   "cell_type": "code",
   "execution_count": null,
   "id": "43298459-baac-4653-95c9-4985bb456202",
   "metadata": {},
   "outputs": [],
   "source": [
    "import pandas as pd"
   ]
  },
  {
   "cell_type": "code",
   "execution_count": null,
   "id": "f36d96da-ad39-4243-b96b-221897c935a5",
   "metadata": {},
   "outputs": [],
   "source": [
    "df = pd.read_csv('data/classics.csv')"
   ]
  },
  {
   "cell_type": "code",
   "execution_count": null,
   "id": "166e7759-d7ef-452d-bce5-34161f00c18b",
   "metadata": {},
   "outputs": [],
   "source": [
    "df.columns"
   ]
  },
  {
   "cell_type": "markdown",
   "id": "51579979-4679-4790-b5aa-c8167549b935",
   "metadata": {},
   "source": [
    "Let's find some correlated data"
   ]
  },
  {
   "cell_type": "code",
   "execution_count": null,
   "id": "6b22cd6c-aca2-4924-91a7-b6abf95bb080",
   "metadata": {},
   "outputs": [],
   "source": [
    "df[['metrics.difficulty.gunning fog','metrics.statistics.average sentence length']].corr()"
   ]
  },
  {
   "cell_type": "code",
   "execution_count": null,
   "id": "0fdf5631-3dfe-4b6c-91da-5ff07c467c43",
   "metadata": {},
   "outputs": [],
   "source": [
    "df[['metrics.difficulty.dale chall readability score','metrics.statistics.average sentence length']].corr()"
   ]
  },
  {
   "cell_type": "code",
   "execution_count": null,
   "id": "12434e54-5e04-49d4-8de0-3df2c0ce3988",
   "metadata": {},
   "outputs": [],
   "source": [
    "df[['metrics.difficulty.flesch kincaid grade','metrics.statistics.average sentence length']].corr()"
   ]
  },
  {
   "cell_type": "code",
   "execution_count": null,
   "id": "029c6bac-98bc-4a33-b6bd-3d86030fa236",
   "metadata": {},
   "outputs": [],
   "source": [
    "df.plot(kind='scatter',\n",
    "        x='metrics.difficulty.flesch kincaid grade',\n",
    "        y='metrics.statistics.average sentence length');"
   ]
  },
  {
   "cell_type": "code",
   "execution_count": null,
   "id": "1aa4f185-dc76-4a86-99cb-b184feb27e49",
   "metadata": {},
   "outputs": [],
   "source": [
    "df.plot(kind='scatter',\n",
    "        x='metrics.statistics.average sentence length',\n",
    "        y='metrics.difficulty.flesch kincaid grade');"
   ]
  },
  {
   "cell_type": "code",
   "execution_count": null,
   "id": "4d361d8f-77ab-4c57-9476-2807e6eaf61e",
   "metadata": {},
   "outputs": [],
   "source": [
    "import numpy as np\n",
    "import pandas as pd\n",
    "import matplotlib.pyplot as plt\n",
    "from sklearn.linear_model import LinearRegression\n",
    "from sklearn.metrics import mean_squared_error, r2_score"
   ]
  },
  {
   "cell_type": "code",
   "execution_count": null,
   "id": "0d1b1ae9-20ef-4ee0-aa55-d4fe8e8b0642",
   "metadata": {},
   "outputs": [],
   "source": [
    "X = df[['metrics.statistics.average sentence length']]\n",
    "y = df['metrics.difficulty.flesch kincaid grade']"
   ]
  },
  {
   "cell_type": "code",
   "execution_count": null,
   "id": "a9c832f1-a2e3-4743-8ae8-8f9b29e979fc",
   "metadata": {},
   "outputs": [],
   "source": [
    "reg = LinearRegression().fit(X, y)"
   ]
  },
  {
   "cell_type": "code",
   "execution_count": null,
   "id": "ef45cb11-cb9d-4ab2-9ccf-5bb5b9988a2f",
   "metadata": {},
   "outputs": [],
   "source": [
    "reg.coef_"
   ]
  },
  {
   "cell_type": "code",
   "execution_count": null,
   "id": "055db264-907b-4369-bcf5-27527ebf1424",
   "metadata": {},
   "outputs": [],
   "source": [
    "reg.intercept_"
   ]
  },
  {
   "cell_type": "code",
   "execution_count": null,
   "id": "3bffc333-8eac-45ca-bc00-0a3408174272",
   "metadata": {},
   "outputs": [],
   "source": [
    "ytrain = reg.intercept_ + reg.coef_ * X"
   ]
  },
  {
   "cell_type": "code",
   "execution_count": null,
   "id": "2a5e4bd0-b960-4481-bb19-9dc74fcadb0a",
   "metadata": {},
   "outputs": [],
   "source": [
    "plt.plot(X,y,'ro',X,ytrain,'b-');"
   ]
  },
  {
   "cell_type": "code",
   "execution_count": null,
   "id": "85ebd18b-2d40-41be-b855-9b1276212e65",
   "metadata": {},
   "outputs": [],
   "source": [
    "mean_squared_error(y, ytrain)"
   ]
  },
  {
   "cell_type": "code",
   "execution_count": null,
   "id": "14bebb4f-a5c4-4b59-9411-b3c16b6d56cc",
   "metadata": {},
   "outputs": [],
   "source": [
    "r2_score(y, ytrain)"
   ]
  },
  {
   "cell_type": "markdown",
   "id": "c3fc9878-f8b5-41ee-9640-1cfe5132adb6",
   "metadata": {},
   "source": [
    "## Clustering"
   ]
  },
  {
   "cell_type": "code",
   "execution_count": null,
   "id": "6f2d0363-c7c0-4f74-baa6-b807090144e1",
   "metadata": {},
   "outputs": [],
   "source": [
    "df.plot(kind='scatter',\n",
    "        x='metrics.difficulty.dale chall readability score',\n",
    "        y='metrics.difficulty.flesch kincaid grade');"
   ]
  },
  {
   "cell_type": "code",
   "execution_count": null,
   "id": "4fe23549-f374-4c38-9dce-22dbf3959fcf",
   "metadata": {},
   "outputs": [],
   "source": [
    "df2 = df[(df['metrics.difficulty.flesch kincaid grade'] > 0) & \n",
    "         (df['metrics.difficulty.flesch kincaid grade'] < 40)]"
   ]
  },
  {
   "cell_type": "code",
   "execution_count": null,
   "id": "725f384c-e558-4b2f-af0f-01fd6aaf8cd8",
   "metadata": {},
   "outputs": [],
   "source": [
    "df2 = df2[['metrics.difficulty.dale chall readability score',\n",
    "           'metrics.difficulty.flesch kincaid grade']]"
   ]
  },
  {
   "cell_type": "code",
   "execution_count": null,
   "id": "5e46cc47-88dc-494f-b4ab-a4d6bdd97ea1",
   "metadata": {},
   "outputs": [],
   "source": [
    "df2.plot(kind='scatter',\n",
    "        x='metrics.difficulty.dale chall readability score',\n",
    "        y='metrics.difficulty.flesch kincaid grade');"
   ]
  },
  {
   "cell_type": "code",
   "execution_count": null,
   "id": "bca453a8-1123-44de-b01a-40c888e6660e",
   "metadata": {},
   "outputs": [],
   "source": [
    "from sklearn.cluster import KMeans"
   ]
  },
  {
   "cell_type": "code",
   "execution_count": null,
   "id": "8e61e50a-a31a-4106-8689-eee885510fb6",
   "metadata": {},
   "outputs": [],
   "source": [
    "kmeans = KMeans(n_clusters=2)"
   ]
  },
  {
   "cell_type": "code",
   "execution_count": null,
   "id": "d3102630-5f4f-4673-8877-439d90274687",
   "metadata": {},
   "outputs": [],
   "source": [
    "kmeans.fit(df2)"
   ]
  },
  {
   "cell_type": "code",
   "execution_count": null,
   "id": "6035e432-61bd-498a-a2cb-49e59ca484cc",
   "metadata": {},
   "outputs": [],
   "source": [
    "kmeans.labels_"
   ]
  },
  {
   "cell_type": "code",
   "execution_count": null,
   "id": "dbd00767-6ee8-4654-84cd-6d0856656847",
   "metadata": {},
   "outputs": [],
   "source": [
    "df2.plot(kind='scatter',\n",
    "        x='metrics.difficulty.dale chall readability score',\n",
    "        y='metrics.difficulty.flesch kincaid grade',\n",
    "         color=kmeans.labels_,cmap='coolwarm');"
   ]
  },
  {
   "cell_type": "code",
   "execution_count": null,
   "id": "9a757407-acc2-404e-a514-7211220f12de",
   "metadata": {},
   "outputs": [],
   "source": [
    "df2.sample()"
   ]
  },
  {
   "cell_type": "code",
   "execution_count": null,
   "id": "6094cbaf-46dd-4ce8-88dc-e2a4a60d8ea6",
   "metadata": {},
   "outputs": [],
   "source": [
    "df2 = 1/df2[['metrics.difficulty.flesch kincaid grade',\n",
    "           'metrics.difficulty.dale chall readability score']]"
   ]
  },
  {
   "cell_type": "code",
   "execution_count": null,
   "id": "1110e7b8-f2b6-428f-8a29-191377aee685",
   "metadata": {},
   "outputs": [],
   "source": [
    "kmeans.fit(df2)"
   ]
  },
  {
   "cell_type": "code",
   "execution_count": null,
   "id": "fca2ecfd-26a7-4594-8b06-bac2aec8d82a",
   "metadata": {},
   "outputs": [],
   "source": [
    "df2 = 1/df2[['metrics.difficulty.flesch kincaid grade',\n",
    "           'metrics.difficulty.dale chall readability score']]"
   ]
  },
  {
   "cell_type": "code",
   "execution_count": null,
   "id": "977e0a69-ab9d-49b0-80bc-798250b765e1",
   "metadata": {},
   "outputs": [],
   "source": [
    "df2.plot(kind='scatter',\n",
    "        x='metrics.difficulty.dale chall readability score',\n",
    "        y='metrics.difficulty.flesch kincaid grade',\n",
    "         color=kmeans.labels_,cmap='coolwarm');"
   ]
  },
  {
   "cell_type": "code",
   "execution_count": null,
   "id": "346130bd-aec8-40a7-a56b-0c85cbd8cfbe",
   "metadata": {},
   "outputs": [],
   "source": [
    "df2 = 1/df2\n",
    "kmeans = KMeans(n_clusters=3)\n",
    "kmeans.fit(df2)\n",
    "df2 = 1/df2\n",
    "df2.plot(kind='scatter',\n",
    "        x='metrics.difficulty.dale chall readability score',\n",
    "        y='metrics.difficulty.flesch kincaid grade',\n",
    "         color=kmeans.labels_,cmap='coolwarm');"
   ]
  },
  {
   "cell_type": "code",
   "execution_count": null,
   "id": "a87bf43f-f8aa-4a1b-ac6e-d0fea2655907",
   "metadata": {},
   "outputs": [],
   "source": [
    "df2 = df2.loc[(df['metrics.difficulty.flesch kincaid grade'] > 1),\n",
    "         ['metrics.difficulty.dale chall readability score',\n",
    "           'metrics.difficulty.flesch kincaid grade']]"
   ]
  },
  {
   "cell_type": "code",
   "execution_count": null,
   "id": "c71f08b3-d45a-4513-80a1-304aeabcd944",
   "metadata": {},
   "outputs": [],
   "source": [
    "df2 = 1/df2\n",
    "kmeans = KMeans(n_clusters=2)\n",
    "kmeans.fit(df2)\n",
    "df2 = 1/df2\n",
    "df2.plot(kind='scatter',\n",
    "        x='metrics.difficulty.dale chall readability score',\n",
    "        y='metrics.difficulty.flesch kincaid grade',\n",
    "         color=kmeans.labels_,cmap='coolwarm');"
   ]
  }
 ],
 "metadata": {
  "kernelspec": {
   "display_name": "Python 3 (ipykernel)",
   "language": "python",
   "name": "python3"
  },
  "language_info": {
   "codemirror_mode": {
    "name": "ipython",
    "version": 3
   },
   "file_extension": ".py",
   "mimetype": "text/x-python",
   "name": "python",
   "nbconvert_exporter": "python",
   "pygments_lexer": "ipython3",
   "version": "3.9.6"
  }
 },
 "nbformat": 4,
 "nbformat_minor": 5
}
